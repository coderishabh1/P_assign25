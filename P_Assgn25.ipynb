{
 "cells": [
  {
   "cell_type": "code",
   "execution_count": 6,
   "id": "8fe1b9b7-ed8e-4d7a-b529-3a2c708e1ce9",
   "metadata": {},
   "outputs": [
    {
     "name": "stdin",
     "output_type": "stream",
     "text": [
      " 1\n",
      " 1\n",
      " 1\n"
     ]
    },
    {
     "name": "stdout",
     "output_type": "stream",
     "text": [
      "3\n"
     ]
    }
   ],
   "source": [
    "##ans1\n",
    "a=int(input())\n",
    "b=int(input())\n",
    "c=int(input())\n",
    "def integer_equal_value(a,b,c):\n",
    "    jump=0\n",
    "    lst=[]\n",
    "    lst.append(a)\n",
    "    lst.append(b)\n",
    "    lst.append(c)\n",
    "    for i in range (2):\n",
    "        if (lst[i]==lst[i+1]):\n",
    "            jump=jump+1\n",
    "    if (jump==0):\n",
    "        return 0\n",
    "    else:\n",
    "        return jump+1\n",
    "print (integer_equal_value(a,b,c))"
   ]
  },
  {
   "cell_type": "code",
   "execution_count": 5,
   "id": "4f312cb6-a34a-412a-846c-fd15d7c9b49f",
   "metadata": {},
   "outputs": [
    {
     "name": "stdin",
     "output_type": "stream",
     "text": [
      " 2\n",
      " name \n",
      " rishabh\n",
      " age \n",
      " 22\n"
     ]
    },
    {
     "name": "stdout",
     "output_type": "stream",
     "text": [
      "[('name ', 'rishabh'), ('age ', '22')]\n"
     ]
    }
   ],
   "source": [
    "##ans2\n",
    "iptdict = {}\n",
    "itm = int(input())\n",
    "for i in range (itm):\n",
    "    k=input()\n",
    "    v=input()\n",
    "    iptdict.update({k:v})\n",
    "def dict_to_list(iptdict):\n",
    "    resultList = list(iptdict.items())\n",
    "    return resultList\n",
    "print(dict_to_list(iptdict))"
   ]
  },
  {
   "cell_type": "code",
   "execution_count": 3,
   "id": "4ad3d32e-2d99-4c17-b9cf-554b5e72ddfe",
   "metadata": {},
   "outputs": [
    {
     "name": "stdin",
     "output_type": "stream",
     "text": [
      " 2\n",
      " name rishabh\n",
      " rishabh\n"
     ]
    },
    {
     "name": "stdout",
     "output_type": "stream",
     "text": [
      "{'name rishabh': 'NAME RISHABH', 'rishabh': 'RISHABH'}\n"
     ]
    }
   ],
   "source": [
    "iptdict = {}\n",
    "itm = int(input())\n",
    "def lower_upper_dict(itm):\n",
    "    for i in range (itm):\n",
    "        k=input()\n",
    "        v=k.upper()\n",
    "        iptdict.update({k:v})\n",
    "    return iptdict\n",
    "print(lower_upper_dict(itm))"
   ]
  },
  {
   "cell_type": "code",
   "execution_count": 2,
   "id": "cdf0e70d-ea11-4386-96e4-ffa508134041",
   "metadata": {},
   "outputs": [
    {
     "name": "stdin",
     "output_type": "stream",
     "text": [
      " aeiou\n",
      " i\n"
     ]
    },
    {
     "name": "stdout",
     "output_type": "stream",
     "text": [
      "iiiii\n"
     ]
    }
   ],
   "source": [
    "##ans4\n",
    "\n",
    "input_string =input()\n",
    "vow=input()\n",
    "def vow_replace(input_string,vow):\n",
    "    new_string = input_string.replace('i', vow).replace('e',vow).replace('o',vow).replace('u',vow).replace('a',vow)\n",
    "    return new_string\n",
    "print(vow_replace(input_string,vow))"
   ]
  },
  {
   "cell_type": "code",
   "execution_count": 1,
   "id": "4d284b08-8c6e-459e-afcf-2585a74dee21",
   "metadata": {},
   "outputs": [
    {
     "name": "stdin",
     "output_type": "stream",
     "text": [
      " to thre\n"
     ]
    },
    {
     "name": "stdout",
     "output_type": "stream",
     "text": [
      "To THRe\n"
     ]
    }
   ],
   "source": [
    "##ans5\n",
    "\n",
    "s=input()\n",
    "def ascii_capitalize(s):\n",
    "    s1 = []\n",
    "    for i in range(len(s)):\n",
    "        if ord(s[i]) % 2 == 0:\n",
    "            s1.append(s[i].upper())\n",
    "        else:\n",
    "            s1.append(s[i].lower())\n",
    "\n",
    "    return \"\".join((s1))\n",
    "print (ascii_capitalize(s))"
   ]
  },
  {
   "cell_type": "code",
   "execution_count": null,
   "id": "949bbdc7-690c-429b-83b1-3db3a8761e4b",
   "metadata": {},
   "outputs": [],
   "source": []
  }
 ],
 "metadata": {
  "kernelspec": {
   "display_name": "Python 3 (ipykernel)",
   "language": "python",
   "name": "python3"
  },
  "language_info": {
   "codemirror_mode": {
    "name": "ipython",
    "version": 3
   },
   "file_extension": ".py",
   "mimetype": "text/x-python",
   "name": "python",
   "nbconvert_exporter": "python",
   "pygments_lexer": "ipython3",
   "version": "3.10.6"
  }
 },
 "nbformat": 4,
 "nbformat_minor": 5
}
