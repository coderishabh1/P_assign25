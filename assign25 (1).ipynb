{
 "cells": [
  {
   "cell_type": "markdown",
   "id": "116a00c4-b1f2-460a-8d0b-c5c3256a2e80",
   "metadata": {},
   "source": [
    "##ans1\n",
    "The difference between the two kinds of expressions is that the List comprehension is enclosed in square brackets [] while the Generator expression is enclosed in plain parentheses ().\n",
    "example:\n",
    "l =[n*2 for n in range(1000) # List comprehension\n",
    "g = (n*2 for n in range(1000))  # Generator expression"
   ]
  },
  {
   "cell_type": "markdown",
   "id": "870e79cb-ea97-4da9-874e-c8c34df6a4d3",
   "metadata": {},
   "source": [
    "##ans2\n",
    "Iterators are used mostly to iterate or convert other objects to an iterator using iter() function. Generators are mostly used in loops to generate an iterator by returning all the values in the loop without affecting the iteration of the loop; Iterator uses iter() and next() functions : Generator uses yield keyword; Every iterator is not a generator"
   ]
  },
  {
   "cell_type": "markdown",
   "id": "9d919af6-311c-4f10-8916-5610b73fb5cf",
   "metadata": {},
   "source": [
    "##ans3\n",
    "A generator function is a function which can be interrupted or which can execute after a while once the execution is started is called Generator Functions. Generator functions are declared the same as normal functions of JavaScript but “function” keyword is suffixed with asterisk(*) symbol or asterisk prefixed with the function name."
   ]
  },
  {
   "cell_type": "markdown",
   "id": "8f23ced6-811e-4756-ba88-705710486a0d",
   "metadata": {},
   "source": [
    "##ans4\n",
    "The yield statement suspends a function’s execution and sends a value back to the caller, but retains enough state to enable the function to resume where it left off. When the function resumes, it continues execution immediately after the last yield run."
   ]
  },
  {
   "cell_type": "markdown",
   "id": "69e670ae-d274-4057-8d51-3eac601d049f",
   "metadata": {},
   "source": [
    "##ans5\n",
    "ist comprehension are used when a list of results is required as map only returns a map object and does not return any list. List comprehension is faster than map when we need to evaluate expressions that are too long or complicated to express Map is faster in case of calling an already defined function (as no lambda is required)."
   ]
  }
 ],
 "metadata": {
  "kernelspec": {
   "display_name": "Python 3 (ipykernel)",
   "language": "python",
   "name": "python3"
  },
  "language_info": {
   "codemirror_mode": {
    "name": "ipython",
    "version": 3
   },
   "file_extension": ".py",
   "mimetype": "text/x-python",
   "name": "python",
   "nbconvert_exporter": "python",
   "pygments_lexer": "ipython3",
   "version": "3.10.6"
  }
 },
 "nbformat": 4,
 "nbformat_minor": 5
}
